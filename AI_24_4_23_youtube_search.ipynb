{
  "nbformat": 4,
  "nbformat_minor": 0,
  "metadata": {
    "colab": {
      "provenance": [],
      "authorship_tag": "ABX9TyM2Y1LzSYk1d4RMmx4hO7AM",
      "include_colab_link": true
    },
    "kernelspec": {
      "name": "python3",
      "display_name": "Python 3"
    },
    "language_info": {
      "name": "python"
    }
  },
  "cells": [
    {
      "cell_type": "markdown",
      "metadata": {
        "id": "view-in-github",
        "colab_type": "text"
      },
      "source": [
        "<a href=\"https://colab.research.google.com/github/sweetiepickle/AI-24-4-23-natural-language-processing/blob/main/AI_24_4_23_youtube_search.ipynb\" target=\"_parent\"><img src=\"https://colab.research.google.com/assets/colab-badge.svg\" alt=\"Open In Colab\"/></a>"
      ]
    },
    {
      "cell_type": "code",
      "execution_count": null,
      "metadata": {
        "colab": {
          "base_uri": "https://localhost:8080/"
        },
        "id": "x2JjDVUr_07Z",
        "outputId": "fd0ffa58-554b-4efb-ca44-6ba1b3029df3"
      },
      "outputs": [
        {
          "output_type": "stream",
          "name": "stdout",
          "text": [
            "Looking in indexes: https://pypi.org/simple, https://us-python.pkg.dev/colab-wheels/public/simple/\n",
            "Collecting youtube_search\n",
            "  Downloading youtube_search-2.1.2-py3-none-any.whl (3.4 kB)\n",
            "Requirement already satisfied: requests in /usr/local/lib/python3.9/dist-packages (from youtube_search) (2.27.1)\n",
            "Requirement already satisfied: certifi>=2017.4.17 in /usr/local/lib/python3.9/dist-packages (from requests->youtube_search) (2022.12.7)\n",
            "Requirement already satisfied: idna<4,>=2.5 in /usr/local/lib/python3.9/dist-packages (from requests->youtube_search) (3.4)\n",
            "Requirement already satisfied: charset-normalizer~=2.0.0 in /usr/local/lib/python3.9/dist-packages (from requests->youtube_search) (2.0.12)\n",
            "Requirement already satisfied: urllib3<1.27,>=1.21.1 in /usr/local/lib/python3.9/dist-packages (from requests->youtube_search) (1.26.15)\n",
            "Installing collected packages: youtube_search\n",
            "Successfully installed youtube_search-2.1.2\n"
          ]
        }
      ],
      "source": [
        "pip install youtube_search"
      ]
    },
    {
      "cell_type": "code",
      "source": [
        "from youtube_search import YoutubeSearch\n",
        "import webbrowser\n",
        "mysong= input('song ? :')\n",
        "result = YoutubeSearch(mysong , max_results = 10).to_dict()\n",
        "print(result)"
      ],
      "metadata": {
        "colab": {
          "base_uri": "https://localhost:8080/"
        },
        "id": "Q0VS7Xmq_4-b",
        "outputId": "b51b5d42-0f0c-4413-84de-b761a9ec6967"
      },
      "execution_count": null,
      "outputs": [
        {
          "output_type": "stream",
          "name": "stdout",
          "text": [
            "song ? :never gonna give you up\n",
            "[{'id': 'dQw4w9WgXcQ', 'thumbnails': ['https://i.ytimg.com/vi/dQw4w9WgXcQ/hq720.jpg?sqp=-oaymwEjCOgCEMoBSFryq4qpAxUIARUAAAAAGAElAADIQj0AgKJDeAE=&rs=AOn4CLA6t_8gXhVJaexTSRAZ4rQm4iSlKQ', 'https://i.ytimg.com/vi/dQw4w9WgXcQ/hq720.jpg?sqp=-oaymwEXCNAFEJQDSFryq4qpAwkIARUAAIhCGAE=&rs=AOn4CLDX3LgTmArIBIk6uvvz4y5p95MOcg'], 'title': 'Rick Astley - Never Gonna Give You Up (Official Music Video)', 'long_desc': None, 'channel': 'Rick Astley', 'duration': '3:33', 'views': '1,384,224,352 views', 'publish_time': '13 years ago', 'url_suffix': '/watch?v=dQw4w9WgXcQ&pp=ygUXbmV2ZXIgZ29ubmEgZ2l2ZSB5b3UgdXA%3D'}, {'id': 'QdezFxHfatw', 'thumbnails': ['https://i.ytimg.com/vi/QdezFxHfatw/hq720.jpg?sqp=-oaymwE9COgCEMoBSFryq4qpAy8IARUAAAAAGAElAADIQj0AgKJDeAHwAQH4Af4JgALQBYoCDAgAEAEYciBAKDUwDw==&rs=AOn4CLCE77wfD29GTGTK1nfh-S-XyApErQ', 'https://i.ytimg.com/vi/QdezFxHfatw/hq720.jpg?sqp=-oaymwExCNAFEJQDSFryq4qpAyMIARUAAIhCGAHwAQH4Af4JgALQBYoCDAgAEAEYciBAKDUwDw==&rs=AOn4CLCNP7lLYXNPg-yPuB7uUZMQNcJE6g'], 'title': 'Rick Astley - Never Gonna Give You Up [Lyrics]', 'long_desc': None, 'channel': 'GlyphoricVibes', 'duration': '3:34', 'views': '1,169,213 views', 'publish_time': '1 year ago', 'url_suffix': '/watch?v=QdezFxHfatw&pp=ygUXbmV2ZXIgZ29ubmEgZ2l2ZSB5b3UgdXA%3D'}, {'id': 'o-YBDTqX_ZU', 'thumbnails': ['https://i.ytimg.com/vi/o-YBDTqX_ZU/hqdefault.jpg?sqp=-oaymwE9COADEI4CSFryq4qpAy8IARUAAAAAGAElAADIQj0AgKJDeAHwAQH4Ab4HgALQBYoCDAgAEAEYOyBSKH8wDw==&rs=AOn4CLBefwk8_wJTdAv6dwpMJHTlhUqkYA'], 'title': 'Rick Astley - Never Gonna Give You Up (Remastered 4K 60fps,AI)', 'long_desc': None, 'channel': 'MusRest', 'duration': '3:33', 'views': '3,444,315 views', 'publish_time': '2 years ago', 'url_suffix': '/watch?v=o-YBDTqX_ZU&pp=ygUXbmV2ZXIgZ29ubmEgZ2l2ZSB5b3UgdXA%3D'}, {'id': 'Ykup4vetvmw', 'thumbnails': ['https://i.ytimg.com/vi/Ykup4vetvmw/hqdefault.jpg?sqp=-oaymwE9COADEI4CSFryq4qpAy8IARUAAAAAGAElAADIQj0AgKJDeAHwAQH4Ae4BgALwAYoCDAgAEAEYciBGKC4wDw==&rs=AOn4CLCpouSza2dzXQpXi2kFTKLPiFZHCg'], 'title': 'Jerry Butler - Never Gonna Give You Up (1968)', 'long_desc': None, 'channel': 'xunclexx', 'duration': '3:04', 'views': '743,973 views', 'publish_time': '12 years ago', 'url_suffix': '/watch?v=Ykup4vetvmw&pp=ygUXbmV2ZXIgZ29ubmEgZ2l2ZSB5b3UgdXA%3D'}, {'id': '41iWg91yFv0', 'thumbnails': ['https://i.ytimg.com/vi/41iWg91yFv0/hq720_2.jpg?sqp=-oaymwE9COgCEMoBSFryq4qpAy8IARUAAAAAGAAlAADIQj0AgKJDeAHwAQH4AYwCgALgA4oCDAgAEAEYYSBWKGUwDw==&rs=AOn4CLASk47RGzEBI88KDrxroJ4vKbg3SQ', 'https://i.ytimg.com/vi/41iWg91yFv0/hq720_2.jpg?sqp=-oaymwExCNAFEJQDSFryq4qpAyMIARUAAIhCGADwAQH4AYwCgALgA4oCDAgAEAEYYSBWKGUwDw==&rs=AOn4CLCJUj9rGoptV6fCcJZDZ_85jeb6XQ'], 'title': 'Never Gonna Give You Up - Rick Astley (Lyrics) 🎵', 'long_desc': None, 'channel': 'Goange Lyrics', 'duration': '0:12', 'views': '104,441 views', 'publish_time': '8 months ago', 'url_suffix': '/shorts/41iWg91yFv0'}, {'id': 'rcN8ORIwExM', 'thumbnails': ['https://i.ytimg.com/vi/rcN8ORIwExM/hq720.jpg?sqp=-oaymwE9COgCEMoBSFryq4qpAy8IARUAAAAAGAElAADIQj0AgKJDeAHwAQH4Af4JgALQBYoCDAgAEAEYWyATKH8wDw==&rs=AOn4CLBRYsOxfXTE5Z4Pd6CNKP4InINvrQ', 'https://i.ytimg.com/vi/rcN8ORIwExM/hq720.jpg?sqp=-oaymwExCNAFEJQDSFryq4qpAyMIARUAAIhCGAHwAQH4Af4JgALQBYoCDAgAEAEYWyATKH8wDw==&rs=AOn4CLDyUNmq8LlJ2QkVbyg_XVypQuH52A'], 'title': 'Peaches x Never Gonna Give You Up: Mashup of the Mario Movie and Rickroll', 'long_desc': None, 'channel': 'Monochrome Media', 'duration': '1:29', 'views': '42,840 views', 'publish_time': '10 days ago', 'url_suffix': '/watch?v=rcN8ORIwExM&pp=ygUXbmV2ZXIgZ29ubmEgZ2l2ZSB5b3UgdXA%3D'}, {'id': 'DLzxrzFCyOs', 'thumbnails': ['https://i.ytimg.com/vi/DLzxrzFCyOs/hq720.jpg?sqp=-oaymwE9COgCEMoBSFryq4qpAy8IARUAAAAAGAElAADIQj0AgKJDeAHwAQH4Ab4HgALQBYoCDAgAEAEYTyBPKGUwDw==&rs=AOn4CLCg63ytncNoek12D_o3RD0qea3OsQ', 'https://i.ytimg.com/vi/DLzxrzFCyOs/hq720.jpg?sqp=-oaymwExCNAFEJQDSFryq4qpAyMIARUAAIhCGAHwAQH4Ab4HgALQBYoCDAgAEAEYTyBPKGUwDw==&rs=AOn4CLDxSJQJi8QvDkUCY4f6Xhl-1jK7Ew'], 'title': 'Rick Astley - Never Gonna Give You Up [HQ]', 'long_desc': None, 'channel': 'AllKindsOfStuff', 'duration': '3:33', 'views': '9,318,119 views', 'publish_time': '8 years ago', 'url_suffix': '/watch?v=DLzxrzFCyOs&pp=ygUXbmV2ZXIgZ29ubmEgZ2l2ZSB5b3UgdXA%3D'}, {'id': '34Ig3X59_qA', 'thumbnails': ['https://i.ytimg.com/vi/34Ig3X59_qA/hq720.jpg?sqp=-oaymwEjCOgCEMoBSFryq4qpAxUIARUAAAAAGAElAADIQj0AgKJDeAE=&rs=AOn4CLAfFFxHsBvuLI11ct2tR3r-XMM_Dg', 'https://i.ytimg.com/vi/34Ig3X59_qA/hq720.jpg?sqp=-oaymwEXCNAFEJQDSFryq4qpAwkIARUAAIhCGAE=&rs=AOn4CLDidy71uYn9dbCjCpIOpgN763bCLw'], 'title': 'Never Gonna Give You Up - Rick Astley (Lyrics) 🎵', 'long_desc': None, 'channel': 'DopeLyrics', 'duration': '4:08', 'views': '11,567,751 views', 'publish_time': '2 years ago', 'url_suffix': '/watch?v=34Ig3X59_qA&pp=ygUXbmV2ZXIgZ29ubmEgZ2l2ZSB5b3UgdXA%3D'}, {'id': '3BFTio5296w', 'thumbnails': ['https://i.ytimg.com/vi/3BFTio5296w/hq720.jpg?sqp=-oaymwEjCOgCEMoBSFryq4qpAxUIARUAAAAAGAElAADIQj0AgKJDeAE=&rs=AOn4CLDOXQ-qobAUm_jxLJNEXMzJKcinWA', 'https://i.ytimg.com/vi/3BFTio5296w/hq720.jpg?sqp=-oaymwEXCNAFEJQDSFryq4qpAwkIARUAAIhCGAE=&rs=AOn4CLAbe_7GWU3aM3b5FRNGni4HBvhqSw'], 'title': 'Never Gonna Give You Up (2022 Remaster)', 'long_desc': None, 'channel': 'Rick Astley', 'duration': '3:34', 'views': '743,847 views', 'publish_time': 0, 'url_suffix': '/watch?v=3BFTio5296w&pp=ygUXbmV2ZXIgZ29ubmEgZ2l2ZSB5b3UgdXA%3D'}, {'id': 'xm3YgoEiEDc', 'thumbnails': ['https://i.ytimg.com/vi/xm3YgoEiEDc/hq720.jpg?sqp=-oaymwEjCOgCEMoBSFryq4qpAxUIARUAAAAAGAElAADIQj0AgKJDeAE=&rs=AOn4CLBU9CtNUxR3kbi5XhVCAZePolq_cA', 'https://i.ytimg.com/vi/xm3YgoEiEDc/hq720.jpg?sqp=-oaymwEXCNAFEJQDSFryq4qpAwkIARUAAIhCGAE=&rs=AOn4CLCGpAW6Qyv0QHatjNdRytQwyHExag'], 'title': '10 Hours Rick Astley Never Gonna Give You Up', 'long_desc': None, 'channel': '10 Hours', 'duration': '10:22:02', 'views': '2,616,713 views', 'publish_time': '1 year ago', 'url_suffix': '/watch?v=xm3YgoEiEDc&pp=ygUXbmV2ZXIgZ29ubmEgZ2l2ZSB5b3UgdXA%3D'}]\n"
          ]
        }
      ]
    },
    {
      "cell_type": "code",
      "source": [
        "for i in range(10):\n",
        "  url ='http://www.youtube.com'+result[i]['url_suffix']\n",
        "  print(url)"
      ],
      "metadata": {
        "colab": {
          "base_uri": "https://localhost:8080/"
        },
        "id": "62s_qhyEAgdE",
        "outputId": "f2e0bef6-55a9-4855-d1ec-c7a0951576a4"
      },
      "execution_count": null,
      "outputs": [
        {
          "output_type": "stream",
          "name": "stdout",
          "text": [
            "http://www.youtube.com/watch?v=dQw4w9WgXcQ&pp=ygUXbmV2ZXIgZ29ubmEgZ2l2ZSB5b3UgdXA%3D\n",
            "http://www.youtube.com/watch?v=QdezFxHfatw&pp=ygUXbmV2ZXIgZ29ubmEgZ2l2ZSB5b3UgdXA%3D\n",
            "http://www.youtube.com/watch?v=o-YBDTqX_ZU&pp=ygUXbmV2ZXIgZ29ubmEgZ2l2ZSB5b3UgdXA%3D\n",
            "http://www.youtube.com/watch?v=Ykup4vetvmw&pp=ygUXbmV2ZXIgZ29ubmEgZ2l2ZSB5b3UgdXA%3D\n",
            "http://www.youtube.com/shorts/41iWg91yFv0\n",
            "http://www.youtube.com/watch?v=rcN8ORIwExM&pp=ygUXbmV2ZXIgZ29ubmEgZ2l2ZSB5b3UgdXA%3D\n",
            "http://www.youtube.com/watch?v=DLzxrzFCyOs&pp=ygUXbmV2ZXIgZ29ubmEgZ2l2ZSB5b3UgdXA%3D\n",
            "http://www.youtube.com/watch?v=34Ig3X59_qA&pp=ygUXbmV2ZXIgZ29ubmEgZ2l2ZSB5b3UgdXA%3D\n",
            "http://www.youtube.com/watch?v=3BFTio5296w&pp=ygUXbmV2ZXIgZ29ubmEgZ2l2ZSB5b3UgdXA%3D\n",
            "http://www.youtube.com/watch?v=xm3YgoEiEDc&pp=ygUXbmV2ZXIgZ29ubmEgZ2l2ZSB5b3UgdXA%3D\n"
          ]
        }
      ]
    },
    {
      "cell_type": "code",
      "source": [
        "from openpyxl import Workbook\n",
        "from youtube_search import YoutubeSearch\n",
        "import webbrowser\n",
        "\n",
        "mysong= input('song ? :\\n')\n",
        "result = YoutubeSearch(mysong , max_results = 10).to_dict()\n",
        "print(result)\n",
        "\n",
        "data= Workbook()\n",
        "sheet = data.active\n",
        "for i in range(10):\n",
        "  print (result[i]['title'])\n",
        "  print (result[i]['views'])\n",
        "  print (result[i]['channel'])\n",
        "  print (result[i]['publish_time'])\n",
        "  print (result[i]['duration'])\n",
        "\n",
        "  url = 'https://www.youtube.com' + result[i]['url_suffix']\n",
        "  print (url)\n",
        "  sheet['A'+ str(i+1)]= i + 1\n",
        "  sheet['B'+ str(i+1)]= result[i]['title']\n",
        "  sheet['C'+ str(i+1)]= result[i]['url_suffix']\n",
        "  sheet['D'+ str(i+1)]= result[i]['views']\n",
        "  sheet['E'+ str(i+1)]= result[i]['channel']\n",
        "  sheet['F'+ str(i+1)]= result[i]['publish_time']\n",
        "  sheet['G'+ str(i+1)]= result[i]['duration']\n",
        "data.save('ytmusic.xlxs')"
      ],
      "metadata": {
        "colab": {
          "base_uri": "https://localhost:8080/"
        },
        "id": "mVo3m29xApL4",
        "outputId": "4680f5a2-4c17-4328-9ecb-9d0d25b52bc2"
      },
      "execution_count": null,
      "outputs": [
        {
          "output_type": "stream",
          "name": "stdout",
          "text": [
            "song ? :\n",
            "never gonna give you up\n",
            "[{'id': 'dQw4w9WgXcQ', 'thumbnails': ['https://i.ytimg.com/vi/dQw4w9WgXcQ/hq720.jpg?sqp=-oaymwEjCOgCEMoBSFryq4qpAxUIARUAAAAAGAElAADIQj0AgKJDeAE=&rs=AOn4CLA6t_8gXhVJaexTSRAZ4rQm4iSlKQ', 'https://i.ytimg.com/vi/dQw4w9WgXcQ/hq720.jpg?sqp=-oaymwEXCNAFEJQDSFryq4qpAwkIARUAAIhCGAE=&rs=AOn4CLDX3LgTmArIBIk6uvvz4y5p95MOcg'], 'title': 'Rick Astley - Never Gonna Give You Up (Official Music Video)', 'long_desc': None, 'channel': 'Rick Astley', 'duration': '3:33', 'views': '1,384,228,667 views', 'publish_time': '13 years ago', 'url_suffix': '/watch?v=dQw4w9WgXcQ&pp=ygUXbmV2ZXIgZ29ubmEgZ2l2ZSB5b3UgdXA%3D'}, {'id': '41iWg91yFv0', 'thumbnails': ['https://i.ytimg.com/vi/41iWg91yFv0/hq720_2.jpg?sqp=-oaymwE9COgCEMoBSFryq4qpAy8IARUAAAAAGAAlAADIQj0AgKJDeAHwAQH4AYwCgALgA4oCDAgAEAEYYSBWKGUwDw==&rs=AOn4CLASk47RGzEBI88KDrxroJ4vKbg3SQ', 'https://i.ytimg.com/vi/41iWg91yFv0/hq720_2.jpg?sqp=-oaymwExCNAFEJQDSFryq4qpAyMIARUAAIhCGADwAQH4AYwCgALgA4oCDAgAEAEYYSBWKGUwDw==&rs=AOn4CLCJUj9rGoptV6fCcJZDZ_85jeb6XQ'], 'title': 'Never Gonna Give You Up - Rick Astley (Lyrics) 🎵', 'long_desc': None, 'channel': 'Goange Lyrics', 'duration': '0:12', 'views': '104,450 views', 'publish_time': '8 months ago', 'url_suffix': '/shorts/41iWg91yFv0'}, {'id': 'QdezFxHfatw', 'thumbnails': ['https://i.ytimg.com/vi/QdezFxHfatw/hq720.jpg?sqp=-oaymwE9COgCEMoBSFryq4qpAy8IARUAAAAAGAElAADIQj0AgKJDeAHwAQH4Af4JgALQBYoCDAgAEAEYciBAKDUwDw==&rs=AOn4CLCE77wfD29GTGTK1nfh-S-XyApErQ', 'https://i.ytimg.com/vi/QdezFxHfatw/hq720.jpg?sqp=-oaymwExCNAFEJQDSFryq4qpAyMIARUAAIhCGAHwAQH4Af4JgALQBYoCDAgAEAEYciBAKDUwDw==&rs=AOn4CLCNP7lLYXNPg-yPuB7uUZMQNcJE6g'], 'title': 'Rick Astley - Never Gonna Give You Up [Lyrics]', 'long_desc': None, 'channel': 'GlyphoricVibes', 'duration': '3:34', 'views': '1,169,306 views', 'publish_time': '1 year ago', 'url_suffix': '/watch?v=QdezFxHfatw&pp=ygUXbmV2ZXIgZ29ubmEgZ2l2ZSB5b3UgdXA%3D'}, {'id': 'o-YBDTqX_ZU', 'thumbnails': ['https://i.ytimg.com/vi/o-YBDTqX_ZU/hqdefault.jpg?sqp=-oaymwE9COADEI4CSFryq4qpAy8IARUAAAAAGAElAADIQj0AgKJDeAHwAQH4Ab4HgALQBYoCDAgAEAEYOyBSKH8wDw==&rs=AOn4CLBefwk8_wJTdAv6dwpMJHTlhUqkYA'], 'title': 'Rick Astley - Never Gonna Give You Up (Remastered 4K 60fps,AI)', 'long_desc': None, 'channel': 'MusRest', 'duration': '3:33', 'views': '3,444,366 views', 'publish_time': '2 years ago', 'url_suffix': '/watch?v=o-YBDTqX_ZU&pp=ygUXbmV2ZXIgZ29ubmEgZ2l2ZSB5b3UgdXA%3D'}, {'id': 'Ykup4vetvmw', 'thumbnails': ['https://i.ytimg.com/vi/Ykup4vetvmw/hqdefault.jpg?sqp=-oaymwE9COADEI4CSFryq4qpAy8IARUAAAAAGAElAADIQj0AgKJDeAHwAQH4Ae4BgALwAYoCDAgAEAEYciBGKC4wDw==&rs=AOn4CLCpouSza2dzXQpXi2kFTKLPiFZHCg'], 'title': 'Jerry Butler - Never Gonna Give You Up (1968)', 'long_desc': None, 'channel': 'xunclexx', 'duration': '3:04', 'views': '743,977 views', 'publish_time': '12 years ago', 'url_suffix': '/watch?v=Ykup4vetvmw&pp=ygUXbmV2ZXIgZ29ubmEgZ2l2ZSB5b3UgdXA%3D'}, {'id': '3BFTio5296w', 'thumbnails': ['https://i.ytimg.com/vi/3BFTio5296w/hq720.jpg?sqp=-oaymwEjCOgCEMoBSFryq4qpAxUIARUAAAAAGAElAADIQj0AgKJDeAE=&rs=AOn4CLDOXQ-qobAUm_jxLJNEXMzJKcinWA', 'https://i.ytimg.com/vi/3BFTio5296w/hq720.jpg?sqp=-oaymwEXCNAFEJQDSFryq4qpAwkIARUAAIhCGAE=&rs=AOn4CLAbe_7GWU3aM3b5FRNGni4HBvhqSw'], 'title': 'Never Gonna Give You Up (2022 Remaster)', 'long_desc': None, 'channel': 'Rick Astley', 'duration': '3:34', 'views': '743,876 views', 'publish_time': 0, 'url_suffix': '/watch?v=3BFTio5296w&pp=ygUXbmV2ZXIgZ29ubmEgZ2l2ZSB5b3UgdXA%3D'}, {'id': 'DLzxrzFCyOs', 'thumbnails': ['https://i.ytimg.com/vi/DLzxrzFCyOs/hq720.jpg?sqp=-oaymwE9COgCEMoBSFryq4qpAy8IARUAAAAAGAElAADIQj0AgKJDeAHwAQH4Ab4HgALQBYoCDAgAEAEYTyBPKGUwDw==&rs=AOn4CLCg63ytncNoek12D_o3RD0qea3OsQ', 'https://i.ytimg.com/vi/DLzxrzFCyOs/hq720.jpg?sqp=-oaymwExCNAFEJQDSFryq4qpAyMIARUAAIhCGAHwAQH4Ab4HgALQBYoCDAgAEAEYTyBPKGUwDw==&rs=AOn4CLDxSJQJi8QvDkUCY4f6Xhl-1jK7Ew'], 'title': 'Rick Astley - Never Gonna Give You Up [HQ]', 'long_desc': None, 'channel': 'AllKindsOfStuff', 'duration': '3:33', 'views': '9,318,131 views', 'publish_time': '8 years ago', 'url_suffix': '/watch?v=DLzxrzFCyOs&pp=ygUXbmV2ZXIgZ29ubmEgZ2l2ZSB5b3UgdXA%3D'}, {'id': 'I3c6CLFe7U8', 'thumbnails': ['https://i.ytimg.com/vi/I3c6CLFe7U8/hqdefault.jpg?sqp=-oaymwEjCOADEI4CSFryq4qpAxUIARUAAAAAGAElAADIQj0AgKJDeAE=&rs=AOn4CLDNM6XYs82-oceN6lPWmSfpq__Kww'], 'title': 'Never gonna Meow you up 10 hours version', 'long_desc': None, 'channel': 'Johny Carrot', 'duration': '10:00:00', 'views': '13,166 views', 'publish_time': '2 months ago', 'url_suffix': '/watch?v=I3c6CLFe7U8&pp=ygUXbmV2ZXIgZ29ubmEgZ2l2ZSB5b3UgdXA%3D'}, {'id': 'rcN8ORIwExM', 'thumbnails': ['https://i.ytimg.com/vi/rcN8ORIwExM/hq720.jpg?sqp=-oaymwE9COgCEMoBSFryq4qpAy8IARUAAAAAGAElAADIQj0AgKJDeAHwAQH4Af4JgALQBYoCDAgAEAEYWyATKH8wDw==&rs=AOn4CLBRYsOxfXTE5Z4Pd6CNKP4InINvrQ', 'https://i.ytimg.com/vi/rcN8ORIwExM/hq720.jpg?sqp=-oaymwExCNAFEJQDSFryq4qpAyMIARUAAIhCGAHwAQH4Af4JgALQBYoCDAgAEAEYWyATKH8wDw==&rs=AOn4CLDyUNmq8LlJ2QkVbyg_XVypQuH52A'], 'title': 'Peaches x Never Gonna Give You Up: Mashup of the Mario Movie and Rickroll', 'long_desc': None, 'channel': 'Monochrome Media', 'duration': '1:29', 'views': '42,977 views', 'publish_time': '10 days ago', 'url_suffix': '/watch?v=rcN8ORIwExM&pp=ygUXbmV2ZXIgZ29ubmEgZ2l2ZSB5b3UgdXA%3D'}, {'id': '34Ig3X59_qA', 'thumbnails': ['https://i.ytimg.com/vi/34Ig3X59_qA/hq720.jpg?sqp=-oaymwEjCOgCEMoBSFryq4qpAxUIARUAAAAAGAElAADIQj0AgKJDeAE=&rs=AOn4CLAfFFxHsBvuLI11ct2tR3r-XMM_Dg', 'https://i.ytimg.com/vi/34Ig3X59_qA/hq720.jpg?sqp=-oaymwEXCNAFEJQDSFryq4qpAwkIARUAAIhCGAE=&rs=AOn4CLDidy71uYn9dbCjCpIOpgN763bCLw'], 'title': 'Never Gonna Give You Up - Rick Astley (Lyrics) 🎵', 'long_desc': None, 'channel': 'DopeLyrics', 'duration': '4:08', 'views': '11,567,756 views', 'publish_time': '2 years ago', 'url_suffix': '/watch?v=34Ig3X59_qA&pp=ygUXbmV2ZXIgZ29ubmEgZ2l2ZSB5b3UgdXA%3D'}]\n",
            "Rick Astley - Never Gonna Give You Up (Official Music Video)\n",
            "1,384,228,667 views\n",
            "Rick Astley\n",
            "13 years ago\n",
            "3:33\n",
            "https://www.youtube.com/watch?v=dQw4w9WgXcQ&pp=ygUXbmV2ZXIgZ29ubmEgZ2l2ZSB5b3UgdXA%3D\n",
            "Never Gonna Give You Up - Rick Astley (Lyrics) 🎵\n",
            "104,450 views\n",
            "Goange Lyrics\n",
            "8 months ago\n",
            "0:12\n",
            "https://www.youtube.com/shorts/41iWg91yFv0\n",
            "Rick Astley - Never Gonna Give You Up [Lyrics]\n",
            "1,169,306 views\n",
            "GlyphoricVibes\n",
            "1 year ago\n",
            "3:34\n",
            "https://www.youtube.com/watch?v=QdezFxHfatw&pp=ygUXbmV2ZXIgZ29ubmEgZ2l2ZSB5b3UgdXA%3D\n",
            "Rick Astley - Never Gonna Give You Up (Remastered 4K 60fps,AI)\n",
            "3,444,366 views\n",
            "MusRest\n",
            "2 years ago\n",
            "3:33\n",
            "https://www.youtube.com/watch?v=o-YBDTqX_ZU&pp=ygUXbmV2ZXIgZ29ubmEgZ2l2ZSB5b3UgdXA%3D\n",
            "Jerry Butler - Never Gonna Give You Up (1968)\n",
            "743,977 views\n",
            "xunclexx\n",
            "12 years ago\n",
            "3:04\n",
            "https://www.youtube.com/watch?v=Ykup4vetvmw&pp=ygUXbmV2ZXIgZ29ubmEgZ2l2ZSB5b3UgdXA%3D\n",
            "Never Gonna Give You Up (2022 Remaster)\n",
            "743,876 views\n",
            "Rick Astley\n",
            "0\n",
            "3:34\n",
            "https://www.youtube.com/watch?v=3BFTio5296w&pp=ygUXbmV2ZXIgZ29ubmEgZ2l2ZSB5b3UgdXA%3D\n",
            "Rick Astley - Never Gonna Give You Up [HQ]\n",
            "9,318,131 views\n",
            "AllKindsOfStuff\n",
            "8 years ago\n",
            "3:33\n",
            "https://www.youtube.com/watch?v=DLzxrzFCyOs&pp=ygUXbmV2ZXIgZ29ubmEgZ2l2ZSB5b3UgdXA%3D\n",
            "Never gonna Meow you up 10 hours version\n",
            "13,166 views\n",
            "Johny Carrot\n",
            "2 months ago\n",
            "10:00:00\n",
            "https://www.youtube.com/watch?v=I3c6CLFe7U8&pp=ygUXbmV2ZXIgZ29ubmEgZ2l2ZSB5b3UgdXA%3D\n",
            "Peaches x Never Gonna Give You Up: Mashup of the Mario Movie and Rickroll\n",
            "42,977 views\n",
            "Monochrome Media\n",
            "10 days ago\n",
            "1:29\n",
            "https://www.youtube.com/watch?v=rcN8ORIwExM&pp=ygUXbmV2ZXIgZ29ubmEgZ2l2ZSB5b3UgdXA%3D\n",
            "Never Gonna Give You Up - Rick Astley (Lyrics) 🎵\n",
            "11,567,756 views\n",
            "DopeLyrics\n",
            "2 years ago\n",
            "4:08\n",
            "https://www.youtube.com/watch?v=34Ig3X59_qA&pp=ygUXbmV2ZXIgZ29ubmEgZ2l2ZSB5b3UgdXA%3D\n"
          ]
        }
      ]
    }
  ]
}